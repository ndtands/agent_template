{
 "cells": [
  {
   "cell_type": "code",
   "execution_count": 1,
   "id": "883397fa",
   "metadata": {},
   "outputs": [],
   "source": [
    "from src.tools.tavily_search import EnhancedTavilySearchAPIWrapper\n",
    "import json "
   ]
  },
  {
   "cell_type": "code",
   "execution_count": 2,
   "id": "1021da31",
   "metadata": {},
   "outputs": [],
   "source": [
    "wrapper = EnhancedTavilySearchAPIWrapper()\n",
    "results =  wrapper.raw_results(\"Reflexion in Langgraph\", include_images=True)"
   ]
  },
  {
   "cell_type": "code",
   "execution_count": 3,
   "id": "5f5c1d98",
   "metadata": {},
   "outputs": [
    {
     "data": {
      "text/plain": [
       "{'query': 'Reflexion in Langgraph',\n",
       " 'follow_up_questions': None,\n",
       " 'answer': None,\n",
       " 'images': ['https://blog.langchain.dev/content/images/2024/02/image-21.png',\n",
       "  'https://miro.medium.com/v2/resize:fit:809/1*RgNdI_eu8Hfu4fSL9p6BFQ.png',\n",
       "  'https://miro.medium.com/v2/resize:fit:1358/1*Tth9B0lBoHHgAkhLKzBLUQ.png',\n",
       "  'https://www.baihezi.com/mirrors/langgraph/tutorials/reflection/img/reflection.png',\n",
       "  'https://blog.langchain.dev/content/images/2024/02/data-src-image-cf1895bb-6a72-4775-a2a0-24a5aa0ffa05.png'],\n",
       " 'results': [{'url': 'https://langchain-ai.github.io/langgraph/tutorials/reflection/reflection/',\n",
       "   'title': 'Reflection',\n",
       "   'content': 'In the context of LLM agent building, reflection refers to the process of prompting an LLM to observe its past steps (along with potential observations from tools/the environment) to assess the quality of the chosen actions. This is then used downstream for things like re-planning, search, or evaluation.\\n\\n![Image 5: Reflection](blob:http://localhost/9aa743d797b6cabbe5a4642ff5d8cc09)\\n\\nThis notebook demonstrates a very simple form of reflection in LangGraph. [...] Table of contents  \\n*   [Setup](https://langchain-ai.github.io/langgraph/tutorials/reflection/reflection/#setup)\\n*   [Generate](https://langchain-ai.github.io/langgraph/tutorials/reflection/reflection/#generate)\\n    *   [Reflect](https://langchain-ai.github.io/langgraph/tutorials/reflection/reflection/#reflect)\\n    *   [Repeat](https://langchain-ai.github.io/langgraph/tutorials/reflection/reflection/#repeat) [...] Reflection\\n\\n===============\\n- [x] - [x] \\n\\n[Skip to content](https://langchain-ai.github.io/langgraph/tutorials/reflection/reflection/#reflection)\\n\\n**We are growing and hiring for multiple roles for LangChain, LangGraph and LangSmith. [Join our team!](https://www.langchain.com/careers)**',\n",
       "   'score': 0.90771407,\n",
       "   'raw_content': None},\n",
       "  {'url': 'https://github.com/langchain-ai/langgraph-reflection',\n",
       "   'title': 'langchain-ai/langgraph-reflection - GitHub',\n",
       "   'content': '## Latest commit\\n\\n## History\\n\\n## Repository files navigation\\n\\n# 🦜🪞LangGraph-Reflection\\n\\nThis prebuilt graph is an agent that uses a reflection-style architecture to check and improve an initial agent\\'s output.\\n\\n## Installation\\n\\n`pip install langgraph-reflection`\\n\\n## Details [...] | This reflection agent uses two subagents: - A \"main\" agent, which is the agent attempting to solve the users task - A \"critique\" agent, which checks the main agents work and offers any critiques  The reflection agent has the following architecture:  1. First, the main agent is called 2. Once the main agent is finished, the critique agent is called 3. Based on the result of the critique agent:  - If the critique agent finds something to critique, then the main agent is called again  - If there [...] ![Reflection Agent Architecture](/langchain-ai/langgraph-reflection/raw/main/langgraph-reflection.png)\\n\\nWe make some assumptions about the graphs:\\n\\n## Examples\\n\\nBelow are a few examples of how to use this reflection agent.\\n\\n### LLM-as-a-Judge ([examples/llm\\\\_as\\\\_a\\\\_judge.py](/langchain-ai/langgraph-reflection/blob/main/examples/llm_as_a_judge.py))\\n\\nIn this example, the reflection agent uses another LLM to judge its output. The judge evaluates responses based on:\\n\\nInstallation:',\n",
       "   'score': 0.84707206,\n",
       "   'raw_content': None},\n",
       "  {'url': 'https://blog.langchain.dev/reflection-agents/',\n",
       "   'title': 'Reflection Agents - LangChain Blog',\n",
       "   'content': \"![LangChain Blog](https://blog.langchain.dev/content/images/2024/03/LangChain-logo.png)\\n![Reflection Agents](/content/images/size/w760/format/webp/2024/02/Youtube---Reflective-Agents.jpg)\\n\\n# Reflection Agents\\n\\nReflection is a prompting strategy used to improve the quality and success rate of agents and similar AI systems. This post outlines how to build 3 reflection techniques using LangGraph, including implementations of Reflexion and Language Agent Tree Search.\\n\\n### Key Links [...] **Links: (**[**Python**](https://github.com/langchain-ai/langgraph/blob/main/examples/reflection/reflection.ipynb?ref=blog.langchain.dev)**,** [**Youtube**](https://youtu.be/v5ymBTXNqtk?feature=shared&t=48&ref=blog.langchain.dev)**)**\\n\\nThis simple example composes two LLM calls: a generator and a reflector. The generator tries to respond directly to the user's requests. The reflector is prompted to role play as a teacher and offer constructive criticism for the initial response. [...] Check out the [code](https://github.com/langchain-ai/langgraph/blob/main/examples/lats/lats.ipynb?ref=blog.langchain.dev) to see how it's implemented. In our LangGraph implementation, we put generation + reflection steps in a single node each, and check the tree state on each loop to see if the task is solved. The (abbreviated) graph definition looks something like below:\",\n",
       "   'score': 0.8464638,\n",
       "   'raw_content': None},\n",
       "  {'url': 'https://medium.com/aimonks/reflection-agents-with-langgraph-agentic-llm-based-applications-87e43c27adc7',\n",
       "   'title': 'Reflection Agents With LangGraph | Agentic LLM Based Applications',\n",
       "   'content': 'In this first article, we’ll go over what is reflection in LLM based applications. Types of reflection agents and their implementations. When to use reflection agents and much more.\\n\\n# What Is Reflection?\\n\\nReflection is a prompting strategy used to improve the quality and success rate of agents and similar AI systems. It involves prompting an LLM to reflect on and critique its past actions, sometimes incorporating additional external information such as tools and observations. [...] ![]()\\n\\nSo basically to achieve reflection in LLM based systems, we have multiple LLM agents. Some that generate content(Generative part of LLMs). Others that reflect on generated content and give constructive criticism that can then be used to optimize the next generation in the cycle to make the content better. Let’s take a look into the types of these reflection types we can work with. There may be many more approaches considering the type of publishing this article. Keep this in mind. [...] As the name suggests, this is the most basic form of reflection agents. In this setup we have two main LLM agents, one acting as the generator and the other acting as the reflector that criticizes the responses from the generator and suggests constructive feedback.\\n\\n![]()\\n\\nHope the image above gave you a glimpse into how reflection agents work from a basic reflection agents setup point of view. Now let’s implement a basic reflection agent using LangGraph.\\n\\n# Setup And Installations',\n",
       "   'score': 0.83452857,\n",
       "   'raw_content': None},\n",
       "  {'url': 'https://www.youtube.com/watch?v=v5ymBTXNqtk',\n",
       "   'title': 'Reflection Agents - YouTube',\n",
       "   'content': '🧠 *Reflexion*\\n- Python: https://github.com/langchain-ai/langgraph/blob/main/examples/reflexion/reflexion.ipynb\\n- Paper: https://arxiv.org/abs/2303.11366\\n\\n🌲 *Language Agents Tree Search*\\n- Python: https://github.com/langchain-ai/langgraph/blob/main/examples/lats/lats.ipynb\\n- Paper: https://arxiv.org/abs/2310.04406\\n\\nBlog: https://blog.langchain.dev/reflection-agents/\\n\\nDeveloping AI applications is easier with LangSmith. Create a free account at\\n\\nhttps://smith.langchain.com/ [...] # Reflection Agents\\n\\nLangChain\\n556 likes\\n32664 views\\n21 Feb 2024\\nIn this video, we will show you how to build three reflection style agents using LangGraph, an open-source framework for building stateful, multi-actor AI applications. [...] ⏰ *Timestamps*\\n-----------\\n00:00 What is reflection?\\n00:48 Basic reflection Example\\n04:59 Reflexion\\n10:25 Language Agent Tree Search (LATS)\\n12:26 Choosing candidate node in LATS \\n15:42 Candidate Generation Node in LATS\\n17:15 Example run of LATS\\n17:34 Reviewing the run in LangSmith\\n19:34 Conclusion \\n\\n🔗 * Links*\\n-----------\\n\\n🤔 *Simple Reflection*\\n- Python: https://github.com/langchain-ai/langgraph/blob/main/examples/reflection/reflection.ipynb',\n",
       "   'score': 0.78473216,\n",
       "   'raw_content': None}],\n",
       " 'response_time': 1.38}"
      ]
     },
     "execution_count": 3,
     "metadata": {},
     "output_type": "execute_result"
    }
   ],
   "source": [
    "results"
   ]
  },
  {
   "cell_type": "markdown",
   "id": "3fdb23a1",
   "metadata": {},
   "source": [
    "![](https://blog.langchain.com/content/images/2024/02/image-21.png)"
   ]
  },
  {
   "cell_type": "markdown",
   "id": "0bfdf748",
   "metadata": {},
   "source": []
  }
 ],
 "metadata": {
  "kernelspec": {
   "display_name": "learn_agent",
   "language": "python",
   "name": "python3"
  },
  "language_info": {
   "codemirror_mode": {
    "name": "ipython",
    "version": 3
   },
   "file_extension": ".py",
   "mimetype": "text/x-python",
   "name": "python",
   "nbconvert_exporter": "python",
   "pygments_lexer": "ipython3",
   "version": "3.11.13"
  }
 },
 "nbformat": 4,
 "nbformat_minor": 5
}
